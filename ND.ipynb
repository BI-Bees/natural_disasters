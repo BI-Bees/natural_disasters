{
 "cells": [
  {
   "cell_type": "code",
   "execution_count": 12,
   "metadata": {},
   "outputs": [],
   "source": [
    "import matplotlib.pyplot as plt\n",
    "import pandas as pd\n",
    "import math\n",
    "import app.visualizer as visualizer\n",
    "\n",
    "from bokeh.io import show, output_file, output_notebook, curdoc\n",
    "from bokeh.models import ColumnDataSource, FactorRange, LabelSet, CustomJS\n",
    "from bokeh.models.widgets import RangeSlider, Button, DataTable, TableColumn, NumberFormatter\n",
    "from bokeh.plotting import figure\n",
    "from bokeh.transform import factor_cmap\n",
    "from bokeh.palettes import inferno, Spectral6\n",
    "from bokeh.layouts import row, widgetbox"
   ]
  },
  {
   "cell_type": "code",
   "execution_count": 16,
   "metadata": {},
   "outputs": [],
   "source": [
    "df_ndDeaths = visualizer.cleanForInt(visualizer.read_csv(\"CSV/World/deaths-natural-disasters.csv\"), ['Year', 'Deaths'])\n",
    "df_ndHomeless = visualizer.cleanForInt(visualizer.read_csv(\"CSV/World/homeless-natural-disasters.csv\"), ['Year', 'Homeless'])\n",
    "df_ndInjured = visualizer.cleanForInt(visualizer.read_csv(\"CSV/World/injured-natural-disasters.csv\"), ['Year', 'Injured'])\n",
    "df_ndTotalAffected = visualizer.cleanForInt(visualizer.read_csv(\"CSV/World/total-affected-natural-disasters.csv\"), ['Year', 'Affected'])\n",
    "df_ndTotalDamage = visualizer.cleanForInt(visualizer.read_csv(\"CSV/World/total-damage-natural-disasters.csv\"), ['Year', 'Cost'])"
   ]
  },
  {
   "cell_type": "code",
   "execution_count": 17,
   "metadata": {},
   "outputs": [
    {
     "name": "stdout",
     "output_type": "stream",
     "text": [
      "      Country Code Country Name  Year Homeless\n",
      "0              AFG  AFGHANISTAN  2014        0\n",
      "1              AFG  AFGHANISTAN  2013        0\n",
      "2              AFG  AFGHANISTAN  2012     2680\n",
      "3              AFG  AFGHANISTAN  2011     9700\n",
      "4              AFG  AFGHANISTAN  2010     1000\n",
      "5              AFG  AFGHANISTAN  2009     3250\n",
      "6              AFG  AFGHANISTAN  2008      180\n",
      "7              AFG  AFGHANISTAN  2007     3480\n",
      "8              AFG  AFGHANISTAN  2006     8210\n",
      "9              AFG  AFGHANISTAN  2005     6775\n",
      "10             AFG  AFGHANISTAN  2004     2700\n",
      "11             AFG  AFGHANISTAN  2003     4250\n",
      "12             AFG  AFGHANISTAN  2002    10000\n",
      "13             AFG  AFGHANISTAN  2001      250\n",
      "14             AFG  AFGHANISTAN  2000        0\n",
      "15             AFG  AFGHANISTAN  1999    31275\n",
      "16             AFG  AFGHANISTAN  1998    45000\n",
      "17             AFG  AFGHANISTAN  1997      750\n",
      "18             AFG  AFGHANISTAN  1996      750\n",
      "19             AFG  AFGHANISTAN  1995     7610\n",
      "20             AFG  AFGHANISTAN  1994        0\n",
      "21             AFG  AFGHANISTAN  1993     1000\n",
      "22             AFG  AFGHANISTAN  1992        0\n",
      "23             AFG  AFGHANISTAN  1991     9400\n",
      "24             AFG  AFGHANISTAN  1990        0\n",
      "25             AFG  AFGHANISTAN  1989        0\n",
      "26             AFG  AFGHANISTAN  1988        0\n",
      "27             AFG  AFGHANISTAN  1987        0\n",
      "28             AFG  AFGHANISTAN  1986        0\n",
      "29             AFG  AFGHANISTAN  1985        0\n",
      "...            ...          ...   ...      ...\n",
      "24580          ZWE     ZIMBABWE  1929        0\n",
      "24581          ZWE     ZIMBABWE  1928        0\n",
      "24582          ZWE     ZIMBABWE  1927        0\n",
      "24583          ZWE     ZIMBABWE  1926        0\n",
      "24584          ZWE     ZIMBABWE  1925        0\n",
      "24585          ZWE     ZIMBABWE  1924        0\n",
      "24586          ZWE     ZIMBABWE  1923        0\n",
      "24587          ZWE     ZIMBABWE  1922        0\n",
      "24588          ZWE     ZIMBABWE  1921        0\n",
      "24589          ZWE     ZIMBABWE  1920        0\n",
      "24590          ZWE     ZIMBABWE  1919        0\n",
      "24591          ZWE     ZIMBABWE  1918        0\n",
      "24592          ZWE     ZIMBABWE  1917        0\n",
      "24593          ZWE     ZIMBABWE  1916        0\n",
      "24594          ZWE     ZIMBABWE  1915        0\n",
      "24595          ZWE     ZIMBABWE  1914        0\n",
      "24596          ZWE     ZIMBABWE  1913        0\n",
      "24597          ZWE     ZIMBABWE  1912        0\n",
      "24598          ZWE     ZIMBABWE  1911        0\n",
      "24599          ZWE     ZIMBABWE  1910        0\n",
      "24600          ZWE     ZIMBABWE  1909        0\n",
      "24601          ZWE     ZIMBABWE  1908        0\n",
      "24602          ZWE     ZIMBABWE  1907        0\n",
      "24603          ZWE     ZIMBABWE  1906        0\n",
      "24604          ZWE     ZIMBABWE  1905        0\n",
      "24605          ZWE     ZIMBABWE  1904        0\n",
      "24606          ZWE     ZIMBABWE  1903        0\n",
      "24607          ZWE     ZIMBABWE  1902        0\n",
      "24608          ZWE     ZIMBABWE  1901        0\n",
      "24609          ZWE     ZIMBABWE  1900        0\n",
      "\n",
      "[24610 rows x 4 columns]\n"
     ]
    }
   ],
   "source": [
    "print(df_ndHomeless)"
   ]
  },
  {
   "cell_type": "code",
   "execution_count": null,
   "metadata": {},
   "outputs": [],
   "source": []
  }
 ],
 "metadata": {
  "kernelspec": {
   "display_name": "Python 3",
   "language": "python",
   "name": "python3"
  },
  "language_info": {
   "codemirror_mode": {
    "name": "ipython",
    "version": 3
   },
   "file_extension": ".py",
   "mimetype": "text/x-python",
   "name": "python",
   "nbconvert_exporter": "python",
   "pygments_lexer": "ipython3",
   "version": "3.6.5"
  }
 },
 "nbformat": 4,
 "nbformat_minor": 2
}
