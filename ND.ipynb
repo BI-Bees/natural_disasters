{
 "cells": [
  {
   "cell_type": "code",
   "execution_count": 7,
   "metadata": {},
   "outputs": [],
   "source": [
    "import matplotlib.pyplot as plt\n",
    "import pandas as pd\n",
    "import math\n",
    "import app.visualizer as visualizer\n",
    "\n",
    "from bokeh.io import show, output_file, output_notebook, curdoc\n",
    "from bokeh.models import ColumnDataSource, FactorRange, LabelSet, CustomJS\n",
    "from bokeh.models.widgets import RangeSlider, Button, DataTable, TableColumn, NumberFormatter\n",
    "from bokeh.plotting import figure\n",
    "from bokeh.transform import factor_cmap\n",
    "from bokeh.palettes import inferno, Spectral6\n",
    "from bokeh.layouts import row, widgetbox"
   ]
  },
  {
   "cell_type": "code",
   "execution_count": 2,
   "metadata": {},
   "outputs": [],
   "source": [
    "ndDeaths = visualizer.read_csv(\"CSV/World/deaths-natural-disasters.csv\")\n",
    "ndHomeless = visualizer.read_csv(\"CSV/World/homeless-natural-disasters.csv\")\n",
    "ndInjured = visualizer.read_csv(\"CSV/World/injured-natural-disasters.csv\")\n",
    "ndTotalAffected = visualizer.read_csv(\"CSV/World/total-affected-natural-disasters.csv\")\n",
    "ndTotalDamage = visualizer.read_csv(\"CSV/World/total-damage-natural-disasters.csv\")\n",
    "test = visualizer.read_csv(\"CSV/World/test.csv\")"
   ]
  },
  {
   "cell_type": "code",
   "execution_count": null,
   "metadata": {},
   "outputs": [],
   "source": [
    "def cleanForInt(csv, listString):\n",
    "    finalList = []\n",
    "    headers = []\n",
    "    \n",
    "    keys = csv[0].keys()\n",
    "    for key in keys:\n",
    "        try:\n",
    "            int(key)\n",
    "            pass     \n",
    "        except:\n",
    "            headers.append(key)\n",
    "            \n",
    "    for dic in csv:\n",
    "        for key, value in dic.items():\n",
    "            tempDict = ()\n",
    "            for head in range(len(headers)):\n",
    "                for head in headers:\n",
    "                    tempDict = tempDict + (dic.get(head),)\n",
    "                break\n",
    "            if key not in headers:\n",
    "                tempDict = tempDict + (key,value)\n",
    "                finalList.append(tempDict)\n",
    "    headers = headers + listString\n",
    "\n",
    "    return pd.DataFrame(finalList, columns=headers)\n",
    "\n",
    "print(cleanForInt(test, ['Year', 'Deaths']))"
   ]
  },
  {
   "cell_type": "code",
   "execution_count": null,
   "metadata": {},
   "outputs": [],
   "source": []
  }
 ],
 "metadata": {
  "kernelspec": {
   "display_name": "Python 3",
   "language": "python",
   "name": "python3"
  },
  "language_info": {
   "codemirror_mode": {
    "name": "ipython",
    "version": 3
   },
   "file_extension": ".py",
   "mimetype": "text/x-python",
   "name": "python",
   "nbconvert_exporter": "python",
   "pygments_lexer": "ipython3",
   "version": "3.6.5"
  }
 },
 "nbformat": 4,
 "nbformat_minor": 2
}
